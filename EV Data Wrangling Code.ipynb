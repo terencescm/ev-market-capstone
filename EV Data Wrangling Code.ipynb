{
 "cells": [
  {
   "cell_type": "code",
   "execution_count": null,
   "id": "4e4613bc-fbf9-49c0-b4f9-315cf12c3f6e",
   "metadata": {},
   "outputs": [],
   "source": [
    "# EV Data Wrangling\n",
    "\n",
    "**Dataset source:** https://www.kaggle.com/datasets/urvishahir/electric-vehicle-specifications-dataset-2025  \n",
    "\n",
    "This script explores the electric vehicle dataset step by step,  \n",
    "with commentary to show the reasoning process behind each check."
   ]
  },
  {
   "cell_type": "code",
   "execution_count": 1,
   "id": "061259e7-fea0-488b-9a03-0720a69671bb",
   "metadata": {},
   "outputs": [
    {
     "name": "stdout",
     "output_type": "stream",
     "text": [
      "Shape: (478, 22)\n",
      "    brand                model  top_speed_kmh  battery_capacity_kWh  \\\n",
      "0  Abarth     500e Convertible            155                  37.8   \n",
      "1  Abarth       500e Hatchback            155                  37.8   \n",
      "2  Abarth  600e Scorpionissima            200                  50.8   \n",
      "3  Abarth         600e Turismo            200                  50.8   \n",
      "4  Aiways                   U5            150                  60.0   \n",
      "\n",
      "  battery_type  number_of_cells  torque_nm  efficiency_wh_per_km  range_km  \\\n",
      "0  Lithium-ion            192.0      235.0                   156       225   \n",
      "1  Lithium-ion            192.0      235.0                   149       225   \n",
      "2  Lithium-ion            102.0      345.0                   158       280   \n",
      "3  Lithium-ion            102.0      345.0                   158       280   \n",
      "4  Lithium-ion              NaN      310.0                   156       315   \n",
      "\n",
      "   acceleration_0_100_s  ...  towing_capacity_kg cargo_volume_l  seats  \\\n",
      "0                   7.0  ...                 0.0            185      4   \n",
      "1                   7.0  ...                 0.0            185      4   \n",
      "2                   5.9  ...                 0.0            360      5   \n",
      "3                   6.2  ...                 0.0            360      5   \n",
      "4                   7.5  ...                 NaN            496      5   \n",
      "\n",
      "  drivetrain       segment length_mm width_mm  height_mm  car_body_type  \\\n",
      "0        FWD   B - Compact      3673     1683       1518      Hatchback   \n",
      "1        FWD   B - Compact      3673     1683       1518      Hatchback   \n",
      "2        FWD  JB - Compact      4187     1779       1557            SUV   \n",
      "3        FWD  JB - Compact      4187     1779       1557            SUV   \n",
      "4        FWD   JC - Medium      4680     1865       1700            SUV   \n",
      "\n",
      "                                          source_url  \n",
      "0  https://ev-database.org/car/1904/Abarth-500e-C...  \n",
      "1  https://ev-database.org/car/1903/Abarth-500e-H...  \n",
      "2  https://ev-database.org/car/3057/Abarth-600e-S...  \n",
      "3  https://ev-database.org/car/3056/Abarth-600e-T...  \n",
      "4         https://ev-database.org/car/1678/Aiways-U5  \n",
      "\n",
      "[5 rows x 22 columns]\n"
     ]
    }
   ],
   "source": [
    "import pandas as pd\n",
    "import numpy as np\n",
    "from pathlib import Path\n",
    "\n",
    "# --- Load data ---\n",
    "csv_path = Path(r\"C:\\Users\\teren\\OneDrive\\Documents\\Education\\05._Continued Education\\01._SpringBoard Data Science Bootcamp\\03._Capstone Project\\EV_Project\\02._Data\\electric_vehicles_spec_2025.csv.csv\")\n",
    "df = pd.read_csv(csv_path)\n",
    "\n",
    "print(\"Shape:\", df.shape)\n",
    "print(df.head())"
   ]
  },
  {
   "cell_type": "code",
   "execution_count": 5,
   "id": "664f7a9e-c690-4986-ae8f-070ce1d4cc72",
   "metadata": {},
   "outputs": [
    {
     "name": "stdout",
     "output_type": "stream",
     "text": [
      "Dropped Firefly rows with no model: 0\n"
     ]
    }
   ],
   "source": [
    "## Model Column Sanity\n",
    "# - One row is blank, leaving 477 unique values from 478 total.\n",
    "# - The \"Firefly\" appears only once, rare entries like this risk slowing analysis and can be dropped.\n",
    "\n",
    "mask = (\n",
    "    df['brand'].astype(str).str.strip().str.lower() == \"firefly\"\n",
    ") & (\n",
    "    df['model'].isna() | (df['model'].astype(str).str.strip() == \"\")\n",
    ")\n",
    "\n",
    "before = len(df)\n",
    "df = df[~mask].copy()\n",
    "print(f\"Dropped Firefly rows with no model: {before - len(df)}\")"
   ]
  },
  {
   "cell_type": "code",
   "execution_count": 6,
   "id": "495ac7a7-da2f-427f-9253-e04691b19bfe",
   "metadata": {},
   "outputs": [
    {
     "name": "stdout",
     "output_type": "stream",
     "text": [
      "count    477.000000\n",
      "mean     185.561845\n",
      "std       34.250051\n",
      "min      125.000000\n",
      "25%      160.000000\n",
      "50%      180.000000\n",
      "75%      201.000000\n",
      "max      325.000000\n",
      "Name: top_speed_kmh, dtype: float64\n",
      "Highest top speed: 325\n",
      "        brand                model  top_speed_kmh\n",
      "211  Maserati  GranTurismo Folgore            325\n"
     ]
    }
   ],
   "source": [
    "## Top Speed\n",
    "# - Range goes from 125 km/h to 325 km/h.\n",
    "# - That 325 is very high, but it belongs to a Maserati GranTurismo Folgore.\n",
    "# - Cross-checking shows this is realistic, so it should be kept.\n",
    "\n",
    "print(df['top_speed_kmh'].describe())\n",
    "print(\"Highest top speed:\", df['top_speed_kmh'].max())\n",
    "print(df.loc[df['top_speed_kmh'] == df['top_speed_kmh'].max(), ['brand','model','top_speed_kmh']])"
   ]
  },
  {
   "cell_type": "code",
   "execution_count": 8,
   "id": "33478c48-c834-474b-b2aa-6d71eceed308",
   "metadata": {},
   "outputs": [
    {
     "name": "stdout",
     "output_type": "stream",
     "text": [
      "count    477.000000\n",
      "mean     393.480084\n",
      "std      103.186857\n",
      "min      135.000000\n",
      "25%      320.000000\n",
      "50%      400.000000\n",
      "75%      470.000000\n",
      "max      685.000000\n",
      "Name: range_km, dtype: float64\n",
      "             brand                            model  range_km\n",
      "239  Mercedes-Benz                         EQS 450+       685\n",
      "194          Lucid                Air Grand Touring       665\n",
      "238  Mercedes-Benz                   EQS 450 4MATIC       655\n",
      "240  Mercedes-Benz                   EQS 500 4MATIC       640\n",
      "241  Mercedes-Benz                   EQS 580 4MATIC       640\n",
      "14            Audi  A6 Sportback e-tron performance       610\n",
      "15            Audi      A6 Sportback e-tron quattro       590\n",
      "242  Mercedes-Benz               EQS AMG 53 4MATIC+       585\n",
      "196          Lucid                      Air Touring       580\n",
      "11            Audi      A6 Avant e-tron performance       575\n"
     ]
    }
   ],
   "source": [
    "## Range\n",
    "# - Max range = 685 km. Manufacturer sites list slightly lower values, but still within reason.\n",
    "# - The top 10 models show gradual decreases, so we will keep them all.\n",
    "\n",
    "print(df['range_km'].describe())\n",
    "print(df.nlargest(10, 'range_km')[['brand','model','range_km']])"
   ]
  },
  {
   "cell_type": "code",
   "execution_count": 10,
   "id": "5812020f-ee23-4080-8437-f06eb32e5d45",
   "metadata": {},
   "outputs": [
    {
     "name": "stdout",
     "output_type": "stream",
     "text": [
      "battery_capacity_kWh missing: 0 (0.00%)\n",
      "fast_charging_power_kw_dc missing: 1 (0.21%)\n",
      "efficiency_wh_per_km missing: 0 (0.00%)\n"
     ]
    }
   ],
   "source": [
    "## Battery, Fast Charging, Efficiency\n",
    "# - battery_capacity_kWh: no missing values\n",
    "# - fast_charging_power_kw_dc: 0.21% missing (Renault 5 E-Tech 40kWh). This lone row can be dropped.\n",
    "# - efficiency_wh_per_km: 0% missing\n",
    "\n",
    "for col in ['battery_capacity_kWh','fast_charging_power_kw_dc','efficiency_wh_per_km']:\n",
    "    missing_count = df[col].isna().sum()\n",
    "    missing_pct = df[col].isna().mean()*100\n",
    "    print(col, 'missing:', missing_count, f\"({missing_pct:.2f}%)\")"
   ]
  },
  {
   "cell_type": "code",
   "execution_count": 12,
   "id": "566f467d-dfae-4fd9-961f-e50877f71ed8",
   "metadata": {},
   "outputs": [
    {
     "name": "stdout",
     "output_type": "stream",
     "text": [
      "Dropped Renault 5 E-Tech 40kWh 95hp rows: 1\n"
     ]
    }
   ],
   "source": [
    "## Drop Renault 5 E-Tech 40kWh Row\n",
    "# - This row is the only one with missing fast-charging info (0.21%).\n",
    "# - Instead of guessing, drop it.\n",
    "\n",
    "mask = (\n",
    "    df['brand'].astype(str).str.strip().str.lower() == \"renault\"\n",
    ") & (\n",
    "    df['model'].astype(str).str.strip().str.lower() == \"5 e-tech 40kwh 95hp\"\n",
    ")\n",
    "\n",
    "before = len(df)\n",
    "df = df[~mask].copy()\n",
    "print(f\"Dropped Renault 5 E-Tech 40kWh 95hp rows: {before - len(df)}\")"
   ]
  },
  {
   "cell_type": "code",
   "execution_count": 14,
   "id": "fc09fe29-c422-40da-b31a-888fb82aa7dd",
   "metadata": {},
   "outputs": [
    {
     "name": "stdout",
     "output_type": "stream",
     "text": [
      "Towing missing %: 5.46218487394958\n"
     ]
    }
   ],
   "source": [
    "## Towing Capacity\n",
    "# - Missing ~5.44% - this is significant, meaning we may need imputation or exclusion,\n",
    "#   depending on how central it is to the modeling.\n",
    "# - NOTE: Since towing capacity has gaps, we can use cargo_volume_l as a similar benchmark for vehicle utility.\n",
    "\n",
    "print(\"Towing missing %:\", df['towing_capacity_kg'].isna().mean() * 100)"
   ]
  },
  {
   "cell_type": "code",
   "execution_count": 16,
   "id": "227b972c-7815-4e66-81a4-7749acfc6092",
   "metadata": {},
   "outputs": [
    {
     "name": "stdout",
     "output_type": "stream",
     "text": [
      "Non-numeric and blank cargo_volume_l rows dropped. New shape: (472, 22)\n"
     ]
    }
   ],
   "source": [
    "## Cargo Volume\n",
    "# - Only 0.21% missing, but 4 rows are non-numeric (e.g., \"10 Banana Boxes\", \"31 Banana Boxes\").\n",
    "# - These are clearly errors and best removed - no guessing.\n",
    "\n",
    "cargo_numeric = pd.to_numeric(df['cargo_volume_l'], errors='coerce')\n",
    "df = df[~cargo_numeric.isna()].copy()\n",
    "df['cargo_volume_l'] = cargo_numeric[~cargo_numeric.isna()]\n",
    "print(\"Non-numeric and blank cargo_volume_l rows dropped. New shape:\", df.shape)"
   ]
  },
  {
   "cell_type": "code",
   "execution_count": 18,
   "id": "4edc424a-06a5-41ae-a5ea-282e685ba67d",
   "metadata": {},
   "outputs": [
    {
     "name": "stdout",
     "output_type": "stream",
     "text": [
      "count     472.000000\n",
      "mean     1887.057203\n",
      "std        73.737318\n",
      "min      1610.000000\n",
      "25%      1849.000000\n",
      "50%      1890.000000\n",
      "75%      1939.000000\n",
      "max      2080.000000\n",
      "Name: width_mm, dtype: float64\n"
     ]
    }
   ],
   "source": [
    "## Width (mm)\n",
    "# - All values are tightly clustered between ~1400-2200 mm, with no missing entries.\n",
    "# - This is a solid variable for analysis.\n",
    "\n",
    "print(df['width_mm'].describe())"
   ]
  },
  {
   "cell_type": "code",
   "execution_count": null,
   "id": "cf547a76-72d3-4e61-8bce-a3e758df715a",
   "metadata": {},
   "outputs": [],
   "source": [
    "## Final Note\n",
    "The only columns with incomplete information (blank cells) are **number_of_cells** and **towing_capacity_kg**.  \n",
    "They will remain in the dataset for now but may be removed during further exploratory data analysis."
   ]
  },
  {
   "cell_type": "code",
   "execution_count": 19,
   "id": "ccbe187b-4ce4-445b-b90e-438ed5518297",
   "metadata": {},
   "outputs": [
    {
     "name": "stdout",
     "output_type": "stream",
     "text": [
      "Saved cleaned data to: C:\\Users\\teren\\OneDrive\\Documents\\Education\\05._Continued Education\\01._SpringBoard Data Science Bootcamp\\03._Capstone Project\\EV_Project\\02._Data\\electric_vehicles_spec_2025_CLEAN.csv\n"
     ]
    }
   ],
   "source": [
    "out_path = csv_path.with_name(csv_path.stem.replace('.csv','') + '_CLEAN.csv')\n",
    "df.to_csv(out_path, index=False)\n",
    "\n",
    "print(\"Saved cleaned data to:\", out_path)"
   ]
  },
  {
   "cell_type": "code",
   "execution_count": null,
   "id": "55d95033-d6d7-4f46-af7a-1eaf52957048",
   "metadata": {},
   "outputs": [],
   "source": []
  }
 ],
 "metadata": {
  "kernelspec": {
   "display_name": "Python [conda env:base] *",
   "language": "python",
   "name": "conda-base-py"
  },
  "language_info": {
   "codemirror_mode": {
    "name": "ipython",
    "version": 3
   },
   "file_extension": ".py",
   "mimetype": "text/x-python",
   "name": "python",
   "nbconvert_exporter": "python",
   "pygments_lexer": "ipython3",
   "version": "3.12.7"
  }
 },
 "nbformat": 4,
 "nbformat_minor": 5
}
