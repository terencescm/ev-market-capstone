{
 "cells": [
  {
   "cell_type": "code",
   "execution_count": null,
   "id": "4e4613bc-fbf9-49c0-b4f9-315cf12c3f6e",
   "metadata": {},
   "outputs": [],
   "source": [
    "# EV Data Wrangling\n",
    "\n",
    "**Dataset source:** https://www.kaggle.com/datasets/urvishahir/electric-vehicle-specifications-dataset-2025  \n",
    "\n",
    "This script explores the electric vehicle dataset step by step,  \n",
    "with commentary to show the reasoning process behind each check."
   ]
  },
  {
   "cell_type": "code",
   "execution_count": null,
   "id": "061259e7-fea0-488b-9a03-0720a69671bb",
   "metadata": {},
   "outputs": [],
   "source": [
    "import pandas as pd\n",
    "import numpy as np\n",
    "from pathlib import Path\n",
    "\n",
    "# --- Load data ---\n",
    "csv_path = Path(r\"C:\\Users\\teren\\OneDrive\\Documents\\Education\\05._Continued Education\\01._SpringBoard Data Science Bootcamp\\03._Capstone Project\\EV_Project\\02._Data\\electric_vehicles_spec_2025.csv.csv\")\n",
    "df = pd.read_csv(csv_path)\n",
    "\n",
    "print(\"Shape:\", df.shape)\n",
    "print(df.head())"
   ]
  },
  {
   "cell_type": "code",
   "execution_count": null,
   "id": "664f7a9e-c690-4986-ae8f-070ce1d4cc72",
   "metadata": {},
   "outputs": [],
   "source": [
    "## Model Column Sanity\n",
    "- One row is blank, leaving 477 unique values from 478 total.  \n",
    "- The “Firefly” appears only once — rare entries like this risk slowing analysis and can be dropped.\n",
    "\n",
    "mask = (\n",
    "    df['brand'].astype(str).str.strip().str.lower() == \"firefly\"\n",
    ") & (\n",
    "    df['model'].isna() | (df['model'].astype(str).str.strip() == \"\")\n",
    ")\n",
    "\n",
    "before = len(df)\n",
    "df = df[~mask].copy()\n",
    "print(f\"Dropped Firefly rows with no model: {before - len(df)}\")"
   ]
  },
  {
   "cell_type": "code",
   "execution_count": null,
   "id": "495ac7a7-da2f-427f-9253-e04691b19bfe",
   "metadata": {},
   "outputs": [],
   "source": [
    "## Top Speed\n",
    "- Range goes from 125 km/h to 325 km/h.  \n",
    "- That 325 is very high, but it belongs to a Maserati GranTurismo Folgore.  \n",
    "- Cross-checking shows this is realistic, so it should be kept.\n",
    "\n",
    "print(df['top_speed_kmh'].describe())\n",
    "print(\"Highest top speed:\", df['top_speed_kmh'].max())\n",
    "print(df.loc[df['top_speed_kmh'] == df['top_speed_kmh'].max(), ['brand','model','top_speed_kmh']])"
   ]
  },
  {
   "cell_type": "code",
   "execution_count": null,
   "id": "33478c48-c834-474b-b2aa-6d71eceed308",
   "metadata": {},
   "outputs": [],
   "source": [
    "## Range\n",
    "- Max range = 685 km. Manufacturer sites list slightly lower values, but still within reason.  \n",
    "- The top 10 models show gradual decreases, so we will keep them all.\n",
    "\n",
    "print(df['range_km'].describe())\n",
    "print(df.nlargest(10, 'range_km')[['brand','model','range_km']])"
   ]
  },
  {
   "cell_type": "code",
   "execution_count": null,
   "id": "5812020f-ee23-4080-8437-f06eb32e5d45",
   "metadata": {},
   "outputs": [],
   "source": [
    "## Battery, Fast Charging, Efficiency\n",
    "- **battery_capacity_kWh**: no missing values  \n",
    "- **fast_charging_power_kw_dc**: 0.21% missing (Renault 5 E-Tech 40kWh). This lone row can be dropped.  \n",
    "- **efficiency_wh_per_km**: 0% missing\n",
    "\n",
    "for col in ['battery_capacity_kWh','fast_charging_power_kw_dc','efficiency_wh_per_km']:\n",
    "    missing_count = df[col].isna().sum()\n",
    "    missing_pct = df[col].isna().mean()*100\n",
    "    print(col, 'missing:', missing_count, f\"({missing_pct:.2f}%)\")"
   ]
  },
  {
   "cell_type": "code",
   "execution_count": null,
   "id": "566f467d-dfae-4fd9-961f-e50877f71ed8",
   "metadata": {},
   "outputs": [],
   "source": [
    "## Drop Renault 5 E-Tech 40kWh Row\n",
    "- This row is the only one with missing fast-charging info (0.21%).  \n",
    "- Instead of guessing, drop it.\n",
    "\n",
    "mask = (\n",
    "    df['brand'].astype(str).str.strip().str.lower() == \"renault\"\n",
    ") & (\n",
    "    df['model'].astype(str).str.strip().str.lower() == \"5 e-tech 40kwh 95hp\"\n",
    ")\n",
    "\n",
    "before = len(df)\n",
    "df = df[~mask].copy()\n",
    "print(f\"Dropped Renault 5 E-Tech 40kWh 95hp rows: {before - len(df)}\")"
   ]
  },
  {
   "cell_type": "code",
   "execution_count": null,
   "id": "fc09fe29-c422-40da-b31a-888fb82aa7dd",
   "metadata": {},
   "outputs": [],
   "source": [
    "## Towing Capacity\n",
    "- Missing ~5.44% — this is significant, meaning we may need imputation or exclusion, depending on how central it is to the modeling.  \n",
    "- NOTE: Since towing capacity has gaps, we can use **cargo_volume_l** as a similar benchmark for vehicle utility.\n",
    "\n",
    "print(\"Towing missing %:\", df['towing_capacity_kg'].isna().mean()*100)"
   ]
  },
  {
   "cell_type": "code",
   "execution_count": null,
   "id": "227b972c-7815-4e66-81a4-7749acfc6092",
   "metadata": {},
   "outputs": [],
   "source": [
    "## Cargo Volume\n",
    "- Only 0.21% missing, but 4 rows are non-numeric (e.g., \"10 Banana Boxes\", \"31 Banana Boxes\").  \n",
    "- These are clearly errors and best removed — no guessing.\n",
    "\n",
    "cargo_numeric = pd.to_numeric(df['cargo_volume_l'], errors='coerce')\n",
    "df = df[~cargo_numeric.isna()].copy()\n",
    "df['cargo_volume_l'] = cargo_numeric[~cargo_numeric.isna()]\n",
    "print(\"Non-numeric and blank cargo_volume_l rows dropped. New shape:\", df.shape)"
   ]
  },
  {
   "cell_type": "code",
   "execution_count": null,
   "id": "4edc424a-06a5-41ae-a5ea-282e685ba67d",
   "metadata": {},
   "outputs": [],
   "source": [
    "## Width (mm)\n",
    "- All values are tightly clustered between ~1400–2200 mm, with no missing entries.  \n",
    "- This is a solid variable for analysis.\n",
    "\n",
    "print(df['width_mm'].describe())              "
   ]
  },
  {
   "cell_type": "code",
   "execution_count": null,
   "id": "cf547a76-72d3-4e61-8bce-a3e758df715a",
   "metadata": {},
   "outputs": [],
   "source": [
    "## Final Note\n",
    "The only columns with incomplete information (blank cells) are **number_of_cells** and **towing_capacity_kg**.  \n",
    "They will remain in the dataset for now but may be removed during further exploratory data analysis."
   ]
  },
  {
   "cell_type": "code",
   "execution_count": null,
   "id": "ccbe187b-4ce4-445b-b90e-438ed5518297",
   "metadata": {},
   "outputs": [],
   "source": [
    "out_path = csv_path.with_name(csv_path.stem.replace('.csv','') + '_CLEAN.csv')\n",
    "df.to_csv(out_path, index=False)\n",
    "\n",
    "print(\"Saved cleaned data to:\", out_path)"
   ]
  }
 ],
 "metadata": {
  "kernelspec": {
   "display_name": "Python [conda env:base] *",
   "language": "python",
   "name": "conda-base-py"
  },
  "language_info": {
   "codemirror_mode": {
    "name": "ipython",
    "version": 3
   },
   "file_extension": ".py",
   "mimetype": "text/x-python",
   "name": "python",
   "nbconvert_exporter": "python",
   "pygments_lexer": "ipython3",
   "version": "3.12.7"
  }
 },
 "nbformat": 4,
 "nbformat_minor": 5
}
