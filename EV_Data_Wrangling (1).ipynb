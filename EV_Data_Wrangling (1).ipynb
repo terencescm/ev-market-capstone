{
 "cells": [
  {
   "cell_type": "code",
   "execution_count": null,
   "id": "f2298611-c2f0-461f-b8e4-a5f09180ffa3",
   "metadata": {},
   "outputs": [],
   "source": []
  }
 ],
 "metadata": {
  "kernelspec": {
   "display_name": "",
   "name": ""
  },
  "language_info": {
   "name": ""
  }
 },
 "nbformat": 4,
 "nbformat_minor": 5
}
